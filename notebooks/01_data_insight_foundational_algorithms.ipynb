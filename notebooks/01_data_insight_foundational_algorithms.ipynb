# Foundational Algorithms

This notebook covers KNN, Decision Trees, and Regression analysis.
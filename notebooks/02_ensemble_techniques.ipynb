# Ensemble Techniques

This notebook focuses on ensemble methods like Random Forests and AdaBoost.